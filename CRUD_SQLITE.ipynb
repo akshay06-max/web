{
 "cells": [
  {
   "cell_type": "code",
   "execution_count": 1,
   "metadata": {},
   "outputs": [
    {
     "name": "stdout",
     "output_type": "stream",
     "text": [
      "hello world\n"
     ]
    }
   ],
   "source": [
    "print(\"hello world\")"
   ]
  },
  {
   "cell_type": "markdown",
   "metadata": {},
   "source": [
    "Create the Database and Table\n",
    "\n",
    "First, let's start with creating the database and table:"
   ]
  },
  {
   "cell_type": "code",
   "execution_count": 16,
   "metadata": {},
   "outputs": [],
   "source": [
    "import sqlite3\n",
    "\n",
    "# Connect to SQLite database (or create it if it doesn't exist)\n",
    "conn = sqlite3.connect('ravi.db')\n",
    "\n",
    "# Create a cursor object\n",
    "cursor = conn.cursor()\n",
    "\n",
    "# Create a table\n",
    "cursor.execute('''\n",
    "CREATE TABLE IF NOT EXISTS users (\n",
    "    id INTEGER PRIMARY KEY AUTOINCREMENT,\n",
    "    name TEXT NOT NULL,\n",
    "    age INTEGER NOT NULL\n",
    ")\n",
    "''')\n",
    "\n",
    "# Commit the changes and close the connection\n",
    "conn.commit()\n",
    "conn.close()\n"
   ]
  },
  {
   "cell_type": "markdown",
   "metadata": {},
   "source": [
    "Create (Insert Data)\n",
    "\n",
    "To insert data into the table, you can use the INSERT INTO statement:"
   ]
  },
  {
   "cell_type": "code",
   "execution_count": 2,
   "metadata": {},
   "outputs": [],
   "source": [
    "# import sqlite3\n",
    "\n",
    "def insert_user(name, age):\n",
    "    conn = sqlite3.connect('ravi.db')\n",
    "    cursor = conn.cursor()\n",
    "    cursor.execute('INSERT INTO users (name, age) VALUES (?, ?)', (name, age))\n",
    "    conn.commit()\n",
    "    conn.close()\n",
    "\n",
    "# Example usage\n",
    "insert_user('Parvathy', 30)\n",
    "insert_user('Praveen', 25)\n"
   ]
  },
  {
   "cell_type": "markdown",
   "metadata": {},
   "source": [
    "Read (Query Data)\n",
    "\n",
    "To read data from the table, you can use the SELECT statement:"
   ]
  },
  {
   "cell_type": "code",
   "execution_count": 14,
   "metadata": {},
   "outputs": [
    {
     "name": "stdout",
     "output_type": "stream",
     "text": [
      "(1, 'Basith', 31)\n",
      "(2, 'Praveen', 25)\n"
     ]
    }
   ],
   "source": [
    "# import sqlite3\n",
    "\n",
    "def get_users():\n",
    "    conn = sqlite3.connect('ravi.db')\n",
    "    cursor = conn.cursor()\n",
    "    cursor.execute('SELECT * FROM users')\n",
    "    rows = cursor.fetchall()\n",
    "    conn.close()\n",
    "    return rows\n",
    "\n",
    "# Example usage\n",
    "users = get_users()\n",
    "for user in users:\n",
    "    print(user)\n"
   ]
  },
  {
   "cell_type": "markdown",
   "metadata": {},
   "source": [
    "Update (Modify Data)\n",
    "\n",
    "To update existing data, you can use the UPDATE statement:"
   ]
  },
  {
   "cell_type": "code",
   "execution_count": 6,
   "metadata": {},
   "outputs": [],
   "source": [
    "# import sqlite3\n",
    "\n",
    "def update_user(user_id, name, age):\n",
    "    conn = sqlite3.connect('ravi.db')\n",
    "    cursor = conn.cursor()\n",
    "    cursor.execute('UPDATE users SET name = ?, age = ? WHERE id = ?', (name, age, user_id))\n",
    "    conn.commit()\n",
    "    conn.close()\n",
    "\n"
   ]
  },
  {
   "cell_type": "code",
   "execution_count": 7,
   "metadata": {},
   "outputs": [],
   "source": [
    "# Example usage\n",
    "update_user(1, 'Basith', 31)\n"
   ]
  },
  {
   "cell_type": "markdown",
   "metadata": {},
   "source": [
    "Delete (Remove Data)\n",
    "\n",
    "To delete data from the table, you can use the DELETE statement:"
   ]
  },
  {
   "cell_type": "code",
   "execution_count": 2,
   "metadata": {},
   "outputs": [],
   "source": [
    "import sqlite3\n",
    "\n",
    "def delete_user(user_id):\n",
    "    conn = sqlite3.connect('example1.db')\n",
    "    cursor = conn.cursor()\n",
    "    cursor.execute('DELETE FROM users WHERE id = ?', (user_id,))\n",
    "    conn.commit()\n",
    "    conn.close()\n",
    "\n"
   ]
  },
  {
   "cell_type": "code",
   "execution_count": 13,
   "metadata": {},
   "outputs": [],
   "source": [
    "# Example usage\n",
    "delete_user(2)\n"
   ]
  },
  {
   "cell_type": "code",
   "execution_count": null,
   "metadata": {},
   "outputs": [],
   "source": []
  },
  {
   "cell_type": "markdown",
   "metadata": {},
   "source": [
    "# Full code."
   ]
  },
  {
   "cell_type": "code",
   "execution_count": 15,
   "metadata": {},
   "outputs": [
    {
     "name": "stdout",
     "output_type": "stream",
     "text": [
      "(1, 'Alice Smith', 31)\n",
      "(4, 'Bob', 25)\n",
      "(5, 'Parvathy', 30)\n",
      "(6, 'Praveen', 25)\n",
      "(7, 'Govind', 40)\n",
      "(8, 'SOlomon', 55)\n",
      "(9, 'Govind', 40)\n",
      "(10, 'SOlomon', 55)\n",
      "(11, 'Govind', 40)\n",
      "(12, 'SOlomon', 55)\n"
     ]
    }
   ],
   "source": [
    "import sqlite3\n",
    "\n",
    "# Connect to SQLite database (or create it if it doesn't exist)\n",
    "conn = sqlite3.connect('example1.db')\n",
    "\n",
    "# Create a cursor object\n",
    "cursor = conn.cursor()\n",
    "\n",
    "# Create a table\n",
    "cursor.execute('''\n",
    "CREATE TABLE IF NOT EXISTS users (\n",
    "    id INTEGER PRIMARY KEY AUTOINCREMENT,\n",
    "    name TEXT NOT NULL,\n",
    "    age INTEGER NOT NULL\n",
    ")\n",
    "''')\n",
    "\n",
    "# Commit the changes and close the connection\n",
    "conn.commit()\n",
    "conn.close()\n",
    "\n",
    "# Insert function\n",
    "def insert_user(name, age):\n",
    "    conn = sqlite3.connect('example1.db')\n",
    "    cursor = conn.cursor()\n",
    "    cursor.execute('INSERT INTO users (name, age) VALUES (?, ?)', (name, age))\n",
    "    conn.commit()\n",
    "    conn.close()\n",
    "\n",
    "# Read function\n",
    "def get_users():\n",
    "    conn = sqlite3.connect('example1.db')\n",
    "    cursor = conn.cursor()\n",
    "    cursor.execute('SELECT * FROM users')\n",
    "    rows = cursor.fetchall()\n",
    "    conn.close()\n",
    "    return rows\n",
    "\n",
    "# Update function\n",
    "def update_user(user_id, name, age):\n",
    "    conn = sqlite3.connect('example1.db')\n",
    "    cursor = conn.cursor()\n",
    "    cursor.execute('UPDATE users SET name = ?, age = ? WHERE id = ?', (name, age, user_id))\n",
    "    conn.commit()\n",
    "    conn.close()\n",
    "\n",
    "# Delete function\n",
    "def delete_user(user_id):\n",
    "    conn = sqlite3.connect('example1.db')\n",
    "    cursor = conn.cursor()\n",
    "    cursor.execute('DELETE FROM users WHERE id = ?', (user_id,))\n",
    "    conn.commit()\n",
    "    conn.close()\n",
    "\n",
    "# Example usage\n",
    "insert_user('Govind', 40)\n",
    "insert_user('SOlomon', 55)\n",
    "update_user(1, 'Alice Smith', 31)\n",
    "delete_user(3)\n",
    "\n",
    "users = get_users()\n",
    "for user in users:\n",
    "    print(user)\n"
   ]
  },
  {
   "cell_type": "code",
   "execution_count": null,
   "metadata": {},
   "outputs": [],
   "source": []
  }
 ],
 "metadata": {
  "kernelspec": {
   "display_name": "venv",
   "language": "python",
   "name": "python3"
  },
  "language_info": {
   "codemirror_mode": {
    "name": "ipython",
    "version": 3
   },
   "file_extension": ".py",
   "mimetype": "text/x-python",
   "name": "python",
   "nbconvert_exporter": "python",
   "pygments_lexer": "ipython3",
   "version": "3.12.1"
  }
 },
 "nbformat": 4,
 "nbformat_minor": 2
}
